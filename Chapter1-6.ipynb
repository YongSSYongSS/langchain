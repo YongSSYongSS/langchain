{
 "cells": [
  {
   "cell_type": "code",
   "execution_count": 1,
   "metadata": {},
   "outputs": [
    {
     "data": {
      "text/plain": [
       "True"
      ]
     },
     "execution_count": 1,
     "metadata": {},
     "output_type": "execute_result"
    }
   ],
   "source": [
    "from dotenv import load_dotenv\n",
    "\n",
    "load_dotenv()"
   ]
  },
  {
   "cell_type": "code",
   "execution_count": 4,
   "metadata": {},
   "outputs": [],
   "source": [
    "from langchain_openai import ChatOpenAI\n",
    "from langchain_core.prompts import PromptTemplate as PT\n",
    "from langchain_core.output_parsers import StrOutputParser\n",
    "\n",
    "model = ChatOpenAI(\n",
    "    temperature=0.1,  \n",
    "    max_tokens=50,\n",
    "    model_name=\"gpt-4o\", \n",
    "    \n",
    ")\n",
    "prompt = PT.from_template(\"{goods}에 대하여 짧고 강렬한 광고 문구를 1문장으로 만들어줘\")\n",
    "chain = prompt | model | StrOutputParser()\n"
   ]
  },
  {
   "cell_type": "code",
   "execution_count": 5,
   "metadata": {},
   "outputs": [
    {
     "name": "stdout",
     "output_type": "stream",
     "text": [
      "\"티라노사우로스 잠옷으로 꿈속에서도 용감한 공룡 모험을 시작하세요!\""
     ]
    }
   ],
   "source": [
    "for token in chain.stream({\"goods\":\"티라노사우로스 잠옷\"}):\n",
    "    print(token, end=\"\", flush=True)"
   ]
  },
  {
   "cell_type": "code",
   "execution_count": 9,
   "metadata": {},
   "outputs": [
    {
     "data": {
      "text/plain": [
       "'\"샤넬의 우아함을 한 점에 담다 - 고품격 이쑤시개로 일상의 품격을 높이세요.\"'"
      ]
     },
     "execution_count": 9,
     "metadata": {},
     "output_type": "execute_result"
    }
   ],
   "source": [
    "chain.invoke({\"goods\": \"샤넬에서 만든 고품격 이쑤시개\"})"
   ]
  },
  {
   "cell_type": "code",
   "execution_count": 11,
   "metadata": {},
   "outputs": [
    {
     "data": {
      "text/plain": [
       "['\"차두리도 선택한 탈모방지 샴푸, 당신의 자신감을 되찾아드립니다!\"', '\"잠이 솔솔, 꿈까지 부드러운 커피 한 잔!\"']"
      ]
     },
     "execution_count": 11,
     "metadata": {},
     "output_type": "execute_result"
    }
   ],
   "source": [
    "chain.batch([{\"goods\" : \"차두리가 쓰는 탈모방지 샴푸\"},{\"goods\" : \"잠이 잘 오는 커피\"}])"
   ]
  },
  {
   "cell_type": "code",
   "execution_count": 13,
   "metadata": {},
   "outputs": [
    {
     "data": {
      "text/plain": [
       "['\"페라리: 당신의 심장을 뛰게 할 단 하나의 엔진!\"',\n",
       " '\"람보르기니: 한계를 넘어선 속도, 꿈을 현실로!\"',\n",
       " '\"BMW: 당신의 열정을 도로 위에 펼치세요.\"',\n",
       " '\"당신의 소중한 순간을 함께하는, 가장 안전하고 편안한 유모차!\"',\n",
       " '\"벤츠: 당신의 여정을 품격으로 채우다.\"']"
      ]
     },
     "execution_count": 13,
     "metadata": {},
     "output_type": "execute_result"
    }
   ],
   "source": [
    "chain.batch(\n",
    "    [\n",
    "        {\"goods\": \"페라리\"},\n",
    "        {\"goods\": \"람보르기니\"},\n",
    "        {\"goods\": \"BMW\"},\n",
    "        {\"goods\": \"유모차\"},\n",
    "        {\"goods\": \"벤츠\"},\n",
    "    ],\n",
    "    config={\"max_concurrency\": 3},\n",
    ")"
   ]
  },
  {
   "cell_type": "code",
   "execution_count": 14,
   "metadata": {},
   "outputs": [
    {
     "name": "stdout",
     "output_type": "stream",
     "text": [
      "\"자연의 달콤함을 한 입에, 말린 망고로 상큼한 에너지를 충전하세요!\""
     ]
    }
   ],
   "source": [
    "async for token in chain.astream({\"goods\": \"말린 망고\"}):\n",
    "    # 메시지 내용을 출력합니다. 줄바꿈 없이 바로 출력하고 버퍼를 비웁니다.\n",
    "    print(token, end=\"\", flush=True)"
   ]
  },
  {
   "cell_type": "code",
   "execution_count": 16,
   "metadata": {},
   "outputs": [
    {
     "name": "stderr",
     "output_type": "stream",
     "text": [
      "C:\\Users\\GoodusData\\AppData\\Local\\Temp\\ipykernel_16004\\242177972.py:2: RuntimeWarning: coroutine 'RunnableSequence.ainvoke' was never awaited\n",
      "  my_process = chain.ainvoke({\"goods\": \"당도 없는 수박\"})\n",
      "RuntimeWarning: Enable tracemalloc to get the object allocation traceback\n"
     ]
    },
    {
     "data": {
      "text/plain": [
       "'\"자연 그대로의 청량함, 당도 없는 수박의 신선한 매력을 경험하세요!\"'"
      ]
     },
     "execution_count": 16,
     "metadata": {},
     "output_type": "execute_result"
    }
   ],
   "source": [
    "# 비동기 체인 객체의 'ainvoke' 메서드를 호출하여 'NVDA' 토픽을 처리합니다.\n",
    "my_process = chain.ainvoke({\"goods\": \"당도 없는 수박\"})\n",
    "await my_process"
   ]
  },
  {
   "cell_type": "code",
   "execution_count": 18,
   "metadata": {},
   "outputs": [
    {
     "name": "stderr",
     "output_type": "stream",
     "text": [
      "C:\\Users\\GoodusData\\AppData\\Local\\Temp\\ipykernel_16004\\4000541879.py:2: RuntimeWarning: coroutine 'RunnableSequence.abatch' was never awaited\n",
      "  my_abatch_process = chain.abatch(\n",
      "RuntimeWarning: Enable tracemalloc to get the object allocation traceback\n"
     ]
    },
    {
     "data": {
      "text/plain": [
       "['\"시노부 피규어로 당신의 공간에 매혹적인 애니메이션의 세계를 불어넣으세요!\"',\n",
       " '\"몽돌 키보드로 타이핑의 예술을 경험하세요!\"',\n",
       " '\"베트남의 숨겨진 보석을 발견하는 여정, 지금 바로 떠나세요!\"']"
      ]
     },
     "execution_count": 18,
     "metadata": {},
     "output_type": "execute_result"
    }
   ],
   "source": [
    "# 주어진 토픽에 대해 비동기적으로 일괄 처리를 수행합니다.\n",
    "my_abatch_process = chain.abatch(\n",
    "    [\n",
    "        {\"goods\": \"시노부 피규어\"}, \n",
    "        {\"goods\": \"몽돌 키보드\"}, \n",
    "        {\"goods\": \"베트남 여행패키지지\"}, \n",
    "    ]\n",
    ")\n",
    "\n",
    "await my_abatch_process"
   ]
  },
  {
   "cell_type": "code",
   "execution_count": 19,
   "metadata": {},
   "outputs": [
    {
     "data": {
      "text/plain": [
       "'대한민국의 수도는 서울입니다.'"
      ]
     },
     "execution_count": 19,
     "metadata": {},
     "output_type": "execute_result"
    }
   ],
   "source": [
    "from langchain_core.runnables import RunnableParallel\n",
    "\n",
    "# {country} 의 수도를 물어보는 체인을 생성합니다.\n",
    "chain1 = (\n",
    "    PT.from_template(\"{country} 의 수도는 어디야?\")\n",
    "    | model\n",
    "    | StrOutputParser()\n",
    ")\n",
    "\n",
    "# {country} 의 면적을 물어보는 체인을 생성합니다.\n",
    "chain2 = (\n",
    "    PT.from_template(\"{country} 의 면적은 얼마야?\")\n",
    "    | model\n",
    "    | StrOutputParser()\n",
    ")\n",
    "\n",
    "# 위의 2개 체인을 동시에 생성하는 병렬 실행 체인을 생성합니다.\n",
    "combined = RunnableParallel(capital=chain1, area=chain2)\n",
    "\n",
    "\n",
    "\n",
    "chain1.invoke({\"country\":\"대한민국\"})"
   ]
  },
  {
   "cell_type": "code",
   "execution_count": 20,
   "metadata": {},
   "outputs": [
    {
     "data": {
      "text/plain": [
       "'대한민국의 총 면적은 약 100,210 평방 킬로미터입니다. 이 면적에는 한반도의 남쪽 부분과 여러 부속 도서가 포함됩니다.'"
      ]
     },
     "execution_count": 20,
     "metadata": {},
     "output_type": "execute_result"
    }
   ],
   "source": [
    "chain2.invoke({\"country\":\"대한민국\"})"
   ]
  },
  {
   "cell_type": "code",
   "execution_count": 22,
   "metadata": {},
   "outputs": [
    {
     "data": {
      "text/plain": [
       "{'capital': '남수단의 수도는 주바입니다.',\n",
       " 'area': '남수단의 면적은 약 619,745 제곱킬로미터입니다. 이는 아프리카 대륙에서 비교적 큰 나라 중 하나로, 2011년에 수단으로부터 독립하여 세계'}"
      ]
     },
     "execution_count": 22,
     "metadata": {},
     "output_type": "execute_result"
    }
   ],
   "source": [
    "combined.invoke({\"country\" : \"남수단\"})"
   ]
  },
  {
   "cell_type": "code",
   "execution_count": 23,
   "metadata": {},
   "outputs": [
    {
     "data": {
      "text/plain": [
       "[{'capital': '대한민국의 수도는 서울입니다.',\n",
       "  'area': '대한민국의 총 면적은 약 100,210 평방 킬로미터입니다. 이 면적에는 한반도의 남쪽 부분과 여러 부속 도서가 포함됩니다.'},\n",
       " {'capital': '미국의 수도는 워싱턴 D.C.입니다.',\n",
       "  'area': '미국의 총 면적은 약 983만 평방킬로미터(약 379만 평방마일)입니다. 이 면적에는 50개 주와 워싱턴 D.C., 그리고 미국의 여러 해외 영'}]"
      ]
     },
     "execution_count": 23,
     "metadata": {},
     "output_type": "execute_result"
    }
   ],
   "source": [
    "combined.batch([{\"country\": \"대한민국\"}, {\"country\": \"미국\"}])"
   ]
  }
 ],
 "metadata": {
  "kernelspec": {
   "display_name": "1lecture",
   "language": "python",
   "name": "python3"
  },
  "language_info": {
   "codemirror_mode": {
    "name": "ipython",
    "version": 3
   },
   "file_extension": ".py",
   "mimetype": "text/x-python",
   "name": "python",
   "nbconvert_exporter": "python",
   "pygments_lexer": "ipython3",
   "version": "3.11.9"
  }
 },
 "nbformat": 4,
 "nbformat_minor": 2
}
